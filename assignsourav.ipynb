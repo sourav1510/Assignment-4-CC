{
 "cells": [
  {
   "cell_type": "code",
   "execution_count": 4,
   "metadata": {},
   "outputs": [
    {
     "name": "stdout",
     "output_type": "stream",
     "text": [
      "Array using numpy is:- [1 2 3 4 5]\n",
      "\n",
      "\n",
      "Addition of 2 in all the element:- [3 4 5 6 7]\n",
      "\n",
      "\n",
      "Multiplication of 3 in all the element:- [ 3  6  9 12 15]\n",
      "\n",
      "\n",
      "Division of 2 in all the element:- [0.5 1.  1.5 2.  2.5]\n"
     ]
    }
   ],
   "source": [
    "import numpy as np\n",
    "\n",
    "arr1 = np.array([1, 2, 3, 4, 5])\n",
    "print(\"Array using numpy is:-\", arr1)\n",
    "print(\"\\n\")\n",
    "print(\"Addition of 2 in all the element:-\", arr1 + 2)\n",
    "print(\"\\n\")\n",
    "print(\"Multiplication of 3 in all the element:-\", arr1 * 3)\n",
    "print(\"\\n\")\n",
    "print(\"Division of 2 in all the element:-\", arr1 / 2)\n"
   ]
  },
  {
   "cell_type": "code",
   "execution_count": 8,
   "metadata": {},
   "outputs": [
    {
     "name": "stdout",
     "output_type": "stream",
     "text": [
      "Reversed array is:  [5 4 6 3 2 1]\n"
     ]
    }
   ],
   "source": [
    "import numpy as np\n",
    "\n",
    "arr = np.array([1, 2, 3, 6, 4, 5])\n",
    "print(\"Reversed array is: \", arr[::-1])"
   ]
  },
  {
   "cell_type": "code",
   "execution_count": 30,
   "metadata": {},
   "outputs": [
    {
     "name": "stdout",
     "output_type": "stream",
     "text": [
      "Most frequent value in x:  1\n",
      "There indices are:  [0 5 7 8]\n"
     ]
    }
   ],
   "source": [
    "import numpy as np\n",
    "\n",
    "x = np.array([1, 2, 3, 4, 5, 1, 2, 1, 1])\n",
    "mfvx = np.bincount(x).argmax()\n",
    "indicesx = np.where(x == mfvx)\n",
    "print(\"Most frequent value in x: \", mfvx)\n",
    "print(\"There indices are: \", indicesx[0])"
   ]
  },
  {
   "cell_type": "code",
   "execution_count": 32,
   "metadata": {},
   "outputs": [
    {
     "name": "stdout",
     "output_type": "stream",
     "text": [
      "Most frequent value in x:  1\n",
      "There indices are:  [0 1 2]\n"
     ]
    }
   ],
   "source": [
    "y = np.array([1, 1, 1, 2, 3, 4, 2, 4, 3, 3, ]) \n",
    "mfvy = np.bincount(y).argmax()\n",
    "indicesy = np.where(y == mfvy)\n",
    "print(\"Most frequent value in x: \", mfvy)\n",
    "print(\"There indices are: \", indicesy[0])\n"
   ]
  },
  {
   "cell_type": "code",
   "execution_count": 47,
   "metadata": {},
   "outputs": [
    {
     "name": "stdout",
     "output_type": "stream",
     "text": [
      "The given array is: \n",
      " [[10 20 30]\n",
      " [40 50 60]\n",
      " [70 80 90]]\n",
      "\n",
      "\n",
      "Accesing first row and second column:  20\n",
      "It is at index:  (array([0]), array([1]))\n",
      "\n",
      "\n",
      "Accesing third row and first column:  70\n",
      "It is at index:  (array([2]), array([0]))\n"
     ]
    }
   ],
   "source": [
    "import numpy as np\n",
    "\n",
    "arr = np.array([[10, 20, 30], [40, 50, 60], [70, 80, 90]])\n",
    "print(\"The given array is: \\n\", arr)\n",
    "print(\"\\n\")\n",
    "print(\"Accesing first row and second column: \", arr[0][1])\n",
    "ind1 = np.where(arr == arr[0][1])\n",
    "print(\"It is at index: \", ind1)\n",
    "print(\"\\n\")\n",
    "ind2 = np.where(arr == arr[2][0])\n",
    "print(\"Accesing third row and first column: \", arr[2][0])\n",
    "print(\"It is at index: \", ind2)\n"
   ]
  },
  {
   "cell_type": "code",
   "execution_count": 1,
   "metadata": {},
   "outputs": [
    {
     "name": "stdout",
     "output_type": "stream",
     "text": [
      "Sourav =  [ 10.    13.75  17.5   21.25  25.    28.75  32.5   36.25  40.    43.75\n",
      "  47.5   51.25  55.    58.75  62.5   66.25  70.    73.75  77.5   81.25\n",
      "  85.    88.75  92.5   96.25 100.  ]\n",
      "\n",
      "\n",
      "Shape:  (25,)\n",
      "\n",
      "\n",
      "Dimension:  1\n",
      "\n",
      "\n",
      "Total Shape:  25\n",
      "\n",
      "\n",
      "Data Type:  float64\n",
      "\n",
      "\n",
      "Total Bytes:  200\n"
     ]
    }
   ],
   "source": [
    "import numpy as np\n",
    "\n",
    "Sourav = np.linspace(10, 100, 25)\n",
    "print(\"Sourav = \", Sourav)\n",
    "print(\"\\n\")\n",
    "print(\"Shape: \", Sourav.shape)\n",
    "print(\"\\n\")\n",
    "print(\"Dimension: \", Sourav.ndim)\n",
    "print(\"\\n\")\n",
    "print(\"Total Shape: \", Sourav.size)\n",
    "print(\"\\n\")\n",
    "print(\"Data Type: \", Sourav.dtype)\n",
    "print(\"\\n\")\n",
    "print(\"Total Bytes: \", Sourav.nbytes)\n"
   ]
  },
  {
   "cell_type": "code",
   "execution_count": 2,
   "metadata": {},
   "outputs": [
    {
     "name": "stdout",
     "output_type": "stream",
     "text": [
      "Reshaped array:  [[ 10.  ]\n",
      " [ 13.75]\n",
      " [ 17.5 ]\n",
      " [ 21.25]\n",
      " [ 25.  ]\n",
      " [ 28.75]\n",
      " [ 32.5 ]\n",
      " [ 36.25]\n",
      " [ 40.  ]\n",
      " [ 43.75]\n",
      " [ 47.5 ]\n",
      " [ 51.25]\n",
      " [ 55.  ]\n",
      " [ 58.75]\n",
      " [ 62.5 ]\n",
      " [ 66.25]\n",
      " [ 70.  ]\n",
      " [ 73.75]\n",
      " [ 77.5 ]\n",
      " [ 81.25]\n",
      " [ 85.  ]\n",
      " [ 88.75]\n",
      " [ 92.5 ]\n",
      " [ 96.25]\n",
      " [100.  ]]\n"
     ]
    }
   ],
   "source": [
    "print(\"Reshaped array: \", Sourav.reshape(25, 1))"
   ]
  },
  {
   "cell_type": "code",
   "execution_count": 3,
   "metadata": {},
   "outputs": [
    {
     "name": "stdout",
     "output_type": "stream",
     "text": [
      "Transpose using T?\n",
      "[ 10.    13.75  17.5   21.25  25.    28.75  32.5   36.25  40.    43.75\n",
      "  47.5   51.25  55.    58.75  62.5   66.25  70.    73.75  77.5   81.25\n",
      "  85.    88.75  92.5   96.25 100.  ]\n",
      "No because, T attribute doesn't works in 1d arrays\n"
     ]
    }
   ],
   "source": [
    "print(\"Transpose using T?\")\n",
    "print(Sourav.T)\n",
    "print(\"No because, T attribute doesn't works in 1d arrays\")\n",
    "\n",
    "try:\n",
    "    transposed_array = Sourav.T\n",
    "except AttributeError as e:\n",
    "    print(\"Error\", e)"
   ]
  },
  {
   "cell_type": "code",
   "execution_count": 4,
   "metadata": {},
   "outputs": [
    {
     "name": "stdout",
     "output_type": "stream",
     "text": [
      "ucs420_Sourav = \n",
      " [[10 20 30 40]\n",
      " [50 60 70 80]\n",
      " [90 15 20 35]]\n",
      "\n",
      "\n",
      "Mean:  43.333333333333336\n",
      "\n",
      "\n",
      "Median:  37.5\n",
      "\n",
      "\n",
      "Min:  10\n",
      "\n",
      "\n",
      "Max:  90\n",
      "\n",
      "\n",
      "Unique elements:  [10 15 20 30 35 40 50 60 70 80 90]\n",
      "\n",
      "\n"
     ]
    }
   ],
   "source": [
    "import numpy as np\n",
    "\n",
    "ucs420_Sourav = np.array([[10, 20, 30, 40],[50, 60, 70, 80],[90, 15, 20, 35]])\n",
    "print(\"ucs420_Sourav = \\n\", ucs420_Sourav)\n",
    "print('\\n')\n",
    "print('Mean: ', np.mean(ucs420_Sourav))\n",
    "print('\\n')\n",
    "print('Median: ', np.median(ucs420_Sourav))\n",
    "print('\\n')\n",
    "print('Min: ', np.min(ucs420_Sourav))\n",
    "print('\\n')\n",
    "print('Max: ', np.max(ucs420_Sourav))\n",
    "print('\\n')\n",
    "print('Unique elements: ', np.unique(ucs420_Sourav))\n",
    "print('\\n')"
   ]
  },
  {
   "cell_type": "code",
   "execution_count": 5,
   "metadata": {},
   "outputs": [
    {
     "name": "stdout",
     "output_type": "stream",
     "text": [
      "reshaped_ucs420_Sourav = \n",
      " [[10 20 30]\n",
      " [40 50 60]\n",
      " [70 80 90]\n",
      " [15 20 35]]\n",
      "\n",
      "\n",
      "resized_ucs420_Sourav = \n",
      " [[10 20 30]\n",
      " [50 60 70]]\n"
     ]
    }
   ],
   "source": [
    "reshaped_ucs420_Sourav = ucs420_Sourav.reshape(4, 3)\n",
    "print(\"reshaped_ucs420_Sourav = \\n\", reshaped_ucs420_Sourav)\n",
    "print(\"\\n\")\n",
    "resized_ucs420_Sourav = ucs420_Sourav[:2, :3]\n",
    "print(\"resized_ucs420_Sourav = \\n\", resized_ucs420_Sourav)"
   ]
  }
 ],
 "metadata": {
  "kernelspec": {
   "display_name": "Python 3",
   "language": "python",
   "name": "python3"
  },
  "language_info": {
   "codemirror_mode": {
    "name": "ipython",
    "version": 3
   },
   "file_extension": ".py",
   "mimetype": "text/x-python",
   "name": "python",
   "nbconvert_exporter": "python",
   "pygments_lexer": "ipython3",
   "version": "3.13.1"
  }
 },
 "nbformat": 4,
 "nbformat_minor": 2
}
